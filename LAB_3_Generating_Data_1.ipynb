{
  "nbformat": 4,
  "nbformat_minor": 0,
  "metadata": {
    "colab": {
      "provenance": []
    },
    "kernelspec": {
      "display_name": "Python 3",
      "name": "python3"
    },
    "language_info": {
      "name": "python"
    },
    "accelerator": "GPU"
  },
  "cells": [
    {
      "cell_type": "markdown",
      "metadata": {
        "id": "gfOXmvzADfpr"
      },
      "source": [
        "# Lab 3: Generating Data\n",
        "\n",
        "Based on assignments by Lisa Zhang and Jimmy Ba.\n",
        "\n",
        "In this lab, you will build models to perform image colourization. That is, given a greyscale image, we wish to predict the colour at each pixel. Image colourization is a difficult problem for many reasons, one of which being that it is ill-posed: for a single greyscale image, there can be multiple, equally valid colourings.\n",
        "\n",
        "To keep the training time manageable we will use the CIFAR-10 data set, which consists of images of size 32x32 pixels. For most of the questions we will use a subset of the dataset. The data loading script is included with the notebooks, and should download automatically the first time it is loaded. \n",
        "\n",
        "We will be starting with a convolutional autoencoder and tweaking it along the way to improve our perforamnce. Then as a second part of the assignment we will compare the autoencoder approach to conditional generative adversarial networks (cGANs).\n",
        "\n",
        "In the process, you are expected to learn to:\n",
        "\n",
        "1. Clean and process the dataset and create greyscale images.\n",
        "2. Implement and modify an autoencoder architecture.\n",
        "3. Tune the hyperparameters of an autoencoder.\n",
        "4. Implement skip connections and other techniques to improve performance.\n",
        "5. Implement a cGAN and compare with an autoencoder.\n",
        "6. Improve on the cGAN by trying one of several techniques to enhance training.\n",
        "\n",
        "\n",
        "### What to submit\n",
        "\n",
        "Submit an HTML file containing all your code, outputs, and write-up\n",
        "from parts A and B. You can produce a HTML file directly from Google Colab. The Colab instructions are provided at the end of this document.\n",
        "\n",
        "**Do not submit any other files produced by your code.**\n",
        "\n",
        "Include a link to your colab file in your submission.\n",
        "\n",
        "Please use Google Colab to complete this assignment. If you want to use Jupyter Notebook, please complete the assignment and upload your Jupyter Notebook file to Google Colab for submission. "
      ]
    },
    {
      "cell_type": "markdown",
      "metadata": {
        "id": "zbnrp2ig1pps"
      },
      "source": [
        "## Colab Link\n",
        "\n",
        "Include a link to your Colab file here. If you would like the TA to look at your\n",
        "Colab file in case your solutions are cut off, **please make sure that your Colab\n",
        "file is publicly accessible at the time of submission**.\n",
        "\n",
        "Colab Link:https://colab.research.google.com/drive/19-DjPZutSCDB2ZHDEMhdNtNClDiC0pBP?usp=sharing"
      ]
    },
    {
      "cell_type": "markdown",
      "metadata": {
        "id": "fFMdtipUPNdu"
      },
      "source": [
        "# PART A - Autoencoder [20 pt]\n",
        "\n",
        "In this part we will construct and compare different autoencoder models for the image colourization task."
      ]
    },
    {
      "cell_type": "markdown",
      "metadata": {
        "id": "4BIpGwANoQOg"
      },
      "source": [
        "#### Helper code\n",
        "\n",
        "Provided are some helper functions for loading and preparing the data. Note that you will need to use the Colab GPU for this assignment."
      ]
    },
    {
      "cell_type": "code",
      "metadata": {
        "id": "bTF1TQObE6DG"
      },
      "source": [
        "\"\"\"\n",
        "Colourization of CIFAR-10 Horses via classification.\n",
        "\"\"\"\n",
        "import argparse\n",
        "import math\n",
        "import time\n",
        "\n",
        "import matplotlib\n",
        "import matplotlib.pyplot as plt\n",
        "import numpy as np\n",
        "import numpy.random as npr\n",
        "import scipy.misc\n",
        "import torch\n",
        "import torch.nn as nn\n",
        "import torch.nn.functional as F\n",
        "from torch.autograd import Variable\n"
      ],
      "execution_count": null,
      "outputs": []
    },
    {
      "cell_type": "code",
      "metadata": {
        "id": "wE_dtMgIh0SJ"
      },
      "source": [
        "######################################################################\n",
        "# Setup working directory\n",
        "######################################################################\n",
        "%mkdir -p /content/a3/\n",
        "%cd /content/a3\n"
      ],
      "execution_count": null,
      "outputs": []
    },
    {
      "cell_type": "code",
      "metadata": {
        "id": "piDmAsqFG0gU"
      },
      "source": [
        "######################################################################\n",
        "# Helper functions for loading data\n",
        "######################################################################\n",
        "# adapted from\n",
        "# https://github.com/fchollet/keras/blob/master/keras/datasets/cifar10.py\n",
        "\n",
        "import os\n",
        "import pickle\n",
        "import sys\n",
        "import tarfile\n",
        "\n",
        "import numpy as np\n",
        "from PIL import Image\n",
        "from six.moves.urllib.request import urlretrieve\n",
        "\n",
        "\n",
        "def get_file(fname, origin, untar=False, extract=False, archive_format=\"auto\", cache_dir=\"data\"):\n",
        "    datadir = os.path.join(cache_dir)\n",
        "    if not os.path.exists(datadir):\n",
        "        os.makedirs(datadir)\n",
        "\n",
        "    if untar:\n",
        "        untar_fpath = os.path.join(datadir, fname)\n",
        "        fpath = untar_fpath + \".tar.gz\"\n",
        "    else:\n",
        "        fpath = os.path.join(datadir, fname)\n",
        "\n",
        "    print(\"File path: %s\" % fpath)\n",
        "    if not os.path.exists(fpath):\n",
        "        print(\"Downloading data from\", origin)\n",
        "\n",
        "        error_msg = \"URL fetch failure on {}: {} -- {}\"\n",
        "        try:\n",
        "            try:\n",
        "                urlretrieve(origin, fpath)\n",
        "            except URLError as e:\n",
        "                raise Exception(error_msg.format(origin, e.errno, e.reason))\n",
        "            except HTTPError as e:\n",
        "                raise Exception(error_msg.format(origin, e.code, e.msg))\n",
        "        except (Exception, KeyboardInterrupt) as e:\n",
        "            if os.path.exists(fpath):\n",
        "                os.remove(fpath)\n",
        "            raise\n",
        "\n",
        "    if untar:\n",
        "        if not os.path.exists(untar_fpath):\n",
        "            print(\"Extracting file.\")\n",
        "            with tarfile.open(fpath) as archive:\n",
        "                archive.extractall(datadir)\n",
        "        return untar_fpath\n",
        "\n",
        "    if extract:\n",
        "        _extract_archive(fpath, datadir, archive_format)\n",
        "\n",
        "    return fpath\n",
        "\n",
        "\n",
        "def load_batch(fpath, label_key=\"labels\"):\n",
        "    \"\"\"Internal utility for parsing CIFAR data.\n",
        "    # Arguments\n",
        "        fpath: path the file to parse.\n",
        "        label_key: key for label data in the retrieve\n",
        "            dictionary.\n",
        "    # Returns\n",
        "        A tuple `(data, labels)`.\n",
        "    \"\"\"\n",
        "    f = open(fpath, \"rb\")\n",
        "    if sys.version_info < (3,):\n",
        "        d = pickle.load(f)\n",
        "    else:\n",
        "        d = pickle.load(f, encoding=\"bytes\")\n",
        "        # decode utf8\n",
        "        d_decoded = {}\n",
        "        for k, v in d.items():\n",
        "            d_decoded[k.decode(\"utf8\")] = v\n",
        "        d = d_decoded\n",
        "    f.close()\n",
        "    data = d[\"data\"]\n",
        "    labels = d[label_key]\n",
        "\n",
        "    data = data.reshape(data.shape[0], 3, 32, 32)\n",
        "    return data, labels\n",
        "\n",
        "\n",
        "def load_cifar10(transpose=False):\n",
        "    \"\"\"Loads CIFAR10 dataset.\n",
        "    # Returns\n",
        "        Tuple of Numpy arrays: `(x_train, y_train), (x_test, y_test)`.\n",
        "    \"\"\"\n",
        "    dirname = \"cifar-10-batches-py\"\n",
        "    origin = \"http://www.cs.toronto.edu/~kriz/cifar-10-python.tar.gz\"\n",
        "    path = get_file(dirname, origin=origin, untar=True)\n",
        "\n",
        "    num_train_samples = 50000\n",
        "\n",
        "    x_train = np.zeros((num_train_samples, 3, 32, 32), dtype=\"uint8\")\n",
        "    y_train = np.zeros((num_train_samples,), dtype=\"uint8\")\n",
        "\n",
        "    for i in range(1, 6):\n",
        "        fpath = os.path.join(path, \"data_batch_\" + str(i))\n",
        "        data, labels = load_batch(fpath)\n",
        "        x_train[(i - 1) * 10000 : i * 10000, :, :, :] = data\n",
        "        y_train[(i - 1) * 10000 : i * 10000] = labels\n",
        "\n",
        "    fpath = os.path.join(path, \"test_batch\")\n",
        "    x_test, y_test = load_batch(fpath)\n",
        "\n",
        "    y_train = np.reshape(y_train, (len(y_train), 1))\n",
        "    y_test = np.reshape(y_test, (len(y_test), 1))\n",
        "\n",
        "    if transpose:\n",
        "        x_train = x_train.transpose(0, 2, 3, 1)\n",
        "        x_test = x_test.transpose(0, 2, 3, 1)\n",
        "    return (x_train, y_train), (x_test, y_test)"
      ],
      "execution_count": null,
      "outputs": []
    },
    {
      "cell_type": "code",
      "metadata": {
        "id": "l7fti3cryStt"
      },
      "source": [
        "# Download CIFAR dataset\n",
        "m = load_cifar10()"
      ],
      "execution_count": null,
      "outputs": []
    },
    {
      "cell_type": "markdown",
      "metadata": {
        "id": "A2TWonhyn0FK"
      },
      "source": [
        "## Part 1. Data Preparation [7 pt]\n",
        "\n",
        "To start off run the above code to load the CIFAR dataset and then work through the following questions/tasks. \n",
        "\n",
        "### Part (a) [1pt]\n",
        "Verify that the dataset has loaded correctly. How many samples do we have? How is the data organized?"
      ]
    },
    {
      "cell_type": "markdown",
      "metadata": {
        "id": "jwhlQm1gWBw-"
      },
      "source": [
        "Answer#\n",
        "\n",
        "There are total 60000 samples with 10 different classes. The data is divide in train and test sets. Train set has 50000 samples and test set has 10000 samples. All the images have 3 channels RGB with size of 32X32 pixels."
      ]
    },
    {
      "cell_type": "code",
      "metadata": {
        "id": "b6bV7uvsh9Sj"
      },
      "source": [
        "# code to examine the dataset\n",
        "train_data = m[0]\n",
        "test_data = m[1]\n",
        "train_sample = train_data[0]\n",
        "train_lables = train_data[1]\n",
        "test_sample = test_data[0]\n",
        "test_lables = test_data[1]\n",
        "\n",
        "print('Train Sample Size ', train_sample.shape)\n",
        "print('Test Sample Size ', test_sample.shape)"
      ],
      "execution_count": null,
      "outputs": []
    },
    {
      "cell_type": "code",
      "metadata": {
        "id": "xMXi9UzBup_X"
      },
      "source": [
        "train_sample[1]"
      ],
      "execution_count": null,
      "outputs": []
    },
    {
      "cell_type": "code",
      "metadata": {
        "id": "lCfyh8p8f8kp"
      },
      "source": [
        "plt.figure(figsize=(20, 10))\n",
        "for i, item in enumerate(train_sample):\n",
        "        if i >= 9: break\n",
        "        plt.subplot(1, 9, i+1)\n",
        "        plt.imshow(item[0])"
      ],
      "execution_count": null,
      "outputs": []
    },
    {
      "cell_type": "code",
      "metadata": {
        "id": "DzMSFjw8e_Da"
      },
      "source": [
        "print(train_lables)"
      ],
      "execution_count": null,
      "outputs": []
    },
    {
      "cell_type": "markdown",
      "metadata": {
        "id": "wDqVs87xpA40"
      },
      "source": [
        "### Part (b) [2pt]\n",
        "Preprocess the data to select only images of horses. Learning to generate only hourse images will make our task easier. Your function will also convert the colour images to greyscale to create our input data."
      ]
    },
    {
      "cell_type": "code",
      "metadata": {
        "id": "vGzwAgQlnMNt"
      },
      "source": [
        "import torch\n",
        "from torchvision import datasets, transforms\n",
        "import matplotlib.pyplot as plt"
      ],
      "execution_count": null,
      "outputs": []
    },
    {
      "cell_type": "code",
      "metadata": {
        "id": "-900ROTMlSPd"
      },
      "source": [
        "# select a single category.\n",
        "HORSE_CATEGORY = 7\n",
        "\n",
        "# convert colour images into greyscale\n",
        "def process(xs, ys, max_pixel=256.0, downsize_input=False):\n",
        "    \"\"\"\n",
        "    Pre-process CIFAR10 images by taking only the horse category,\n",
        "    shuffling, and have colour values be bound between 0 and 1\n",
        "\n",
        "    Args:\n",
        "      xs: the colour RGB pixel values\n",
        "      ys: the category labels\n",
        "      max_pixel: maximum pixel value in the original data\n",
        "    Returns:\n",
        "      xs: value normalized and shuffled colour images\n",
        "      grey: greyscale images, also normalized so values are between 0 and 1\n",
        "    \"\"\"\n",
        "    xs = xs / max_pixel\n",
        "    xs = xs[np.where(ys == HORSE_CATEGORY)[0], :, :, :]\n",
        "    npr.shuffle(xs)\n",
        "\n",
        "    grey = np.mean(xs, axis=1, keepdims=True)\n",
        "\n",
        "    if downsize_input:\n",
        "        downsize_module = nn.Sequential(\n",
        "            nn.AvgPool2d(2),\n",
        "            nn.AvgPool2d(2),\n",
        "            nn.Upsample(scale_factor=2),\n",
        "            nn.Upsample(scale_factor=2),\n",
        "        )\n",
        "        xs_downsized = downsize_module.forward(torch.from_numpy(xs).float())\n",
        "        xs_downsized = xs_downsized.data.numpy()\n",
        "        return (xs, xs_downsized)\n",
        "    else:\n",
        "        return (xs, grey)\n"
      ],
      "execution_count": null,
      "outputs": []
    },
    {
      "cell_type": "markdown",
      "metadata": {
        "id": "RQxlWfcUW8Jl"
      },
      "source": [
        "Printing processed data to verify the images"
      ]
    },
    {
      "cell_type": "code",
      "metadata": {
        "id": "hzwhoi10kQt_"
      },
      "source": [
        "x_col, x_grey = process(train_sample,train_lables)"
      ],
      "execution_count": null,
      "outputs": []
    },
    {
      "cell_type": "code",
      "metadata": {
        "id": "H7bskBpmo7rR"
      },
      "source": [
        "fig = plt.figure(figsize=(25, 4))\n",
        "for idx in np.arange(9):\n",
        "    ax = fig.add_subplot(2, 9, idx+1)\n",
        "    plt.imshow(np.transpose(x_col[idx], (1, 2, 0)))\n"
      ],
      "execution_count": null,
      "outputs": []
    },
    {
      "cell_type": "code",
      "metadata": {
        "id": "OkhwF1wcqK0u"
      },
      "source": [
        "plt.figure(figsize=(25, 4))\n",
        "for i, item in enumerate(x_grey):\n",
        "        if i >= 9: break\n",
        "        plt.subplot(1, 9, i+1)\n",
        "        plt.imshow(item[0], 'gray')"
      ],
      "execution_count": null,
      "outputs": []
    },
    {
      "cell_type": "markdown",
      "metadata": {
        "id": "jHSeX3ADsQu5"
      },
      "source": [
        "### Part (c) [2pt]\n",
        "Create a dataloader (or function) to batch the samples."
      ]
    },
    {
      "cell_type": "code",
      "metadata": {
        "id": "6kU_rnNssXwU"
      },
      "source": [
        "# dataloader for batching samples\n",
        "\n",
        "def get_batch(x, y, batch_size):\n",
        "    \"\"\"\n",
        "    Generated that yields batches of data\n",
        "\n",
        "    Args:\n",
        "      x: input values\n",
        "      y: output values\n",
        "      batch_size: size of each batch\n",
        "    Yields:\n",
        "      batch_x: a batch of inputs of size at most batch_size\n",
        "      batch_y: a batch of outputs of size at most batch_size\n",
        "    \"\"\"\n",
        "    N = np.shape(x)[0]\n",
        "    assert N == np.shape(y)[0]\n",
        "    for i in range(0, N, batch_size):\n",
        "        batch_x = x[i : i + batch_size, :, :, :]\n",
        "        batch_y = y[i : i + batch_size, :, :, :]\n",
        "        yield (batch_x, batch_y)"
      ],
      "execution_count": null,
      "outputs": []
    },
    {
      "cell_type": "code",
      "metadata": {
        "id": "DJe-5nuwv1J-"
      },
      "source": [
        "xs, ys = next(iter(get_batch(x_grey, x_col, 10)))"
      ],
      "execution_count": null,
      "outputs": []
    },
    {
      "cell_type": "code",
      "metadata": {
        "id": "Bzt0q91k1l5u"
      },
      "source": [
        "type(xs)"
      ],
      "execution_count": null,
      "outputs": []
    },
    {
      "cell_type": "markdown",
      "metadata": {
        "id": "CjPTh0sjsgkV"
      },
      "source": [
        "### Part (e) [2pt]\n",
        "Verify and visualize that we are able to generate different batches of data."
      ]
    },
    {
      "cell_type": "code",
      "metadata": {
        "id": "h7zubylhiipE"
      },
      "source": [
        "# code to load different batches of horse dataset\n",
        "\n",
        "print(\"Loading data...\")\n",
        "(x_train, y_train), (x_test, y_test) = load_cifar10()\n",
        "\n",
        "print(\"Transforming data...\")\n",
        "train_rgb, train_grey = process(x_train, y_train)\n",
        "test_rgb, test_grey = process(x_test, y_test)\n"
      ],
      "execution_count": null,
      "outputs": []
    },
    {
      "cell_type": "code",
      "metadata": {
        "id": "Wek0NfrHjNWE"
      },
      "source": [
        "# shape of data and labels before selection\n",
        "print(x_train.shape, y_train.shape)"
      ],
      "execution_count": null,
      "outputs": []
    },
    {
      "cell_type": "code",
      "metadata": {
        "id": "_Qpj_1-yjfM-"
      },
      "source": [
        "# shape of training data\n",
        "print('Training Data: ', train_rgb.shape, train_grey.shape)\n",
        "# shape of testing data\n",
        "print('Testing Data: ', test_rgb.shape, test_grey.shape)"
      ],
      "execution_count": null,
      "outputs": []
    },
    {
      "cell_type": "markdown",
      "metadata": {
        "id": "pHBOzMJPpNbq"
      },
      "source": [
        "Load Batches"
      ]
    },
    {
      "cell_type": "code",
      "metadata": {
        "id": "CfGh9pZOpP3r"
      },
      "source": [
        "# obtain batches of images\n",
        "xs, ys = next(iter(get_batch(train_grey, train_rgb, 10)))\n",
        "print(xs.shape, ys.shape)"
      ],
      "execution_count": null,
      "outputs": []
    },
    {
      "cell_type": "code",
      "metadata": {
        "id": "AkP-PLqr3WKm"
      },
      "source": [
        "# obtain batches of images\n",
        "xstest, ystest = next(iter(get_batch(test_grey, test_rgb, 10)))\n",
        "print(xstest.shape, ystest.shape)"
      ],
      "execution_count": null,
      "outputs": []
    },
    {
      "cell_type": "markdown",
      "metadata": {
        "id": "NUg_-oB_o9Wf"
      },
      "source": [
        "Visualization"
      ]
    },
    {
      "cell_type": "code",
      "metadata": {
        "id": "9bGPAI4Go_q_"
      },
      "source": [
        "# visualize 5 train/test images\n",
        "fig = plt.figure(figsize=(25, 4))\n",
        "for idx in np.arange(5):\n",
        "    ax = fig.add_subplot(2, 9, idx+1)\n",
        "    plt.imshow(np.transpose(ys[idx], (1, 2, 0)))"
      ],
      "execution_count": null,
      "outputs": []
    },
    {
      "cell_type": "code",
      "metadata": {
        "id": "D6mlihVy276r"
      },
      "source": [
        "plt.figure(figsize=(25, 4))\n",
        "for i, item in enumerate(xs):\n",
        "        if i >= 5: break\n",
        "        plt.subplot(1, 9, i+1)\n",
        "        plt.imshow(item[0], 'gray')"
      ],
      "execution_count": null,
      "outputs": []
    },
    {
      "cell_type": "code",
      "metadata": {
        "id": "MzLTvj6t3npn"
      },
      "source": [
        "# visualize 5 train/test images\n",
        "fig = plt.figure(figsize=(25, 4))\n",
        "for idx in np.arange(5):\n",
        "    ax = fig.add_subplot(2, 9, idx+1)\n",
        "    plt.imshow(np.transpose(ystest[idx], (1, 2, 0)))"
      ],
      "execution_count": null,
      "outputs": []
    },
    {
      "cell_type": "code",
      "metadata": {
        "id": "F6TrRRCk3DPG"
      },
      "source": [
        "plt.figure(figsize=(25, 4))\n",
        "for i, item in enumerate(xstest):\n",
        "        if i >= 5: break\n",
        "        plt.subplot(1, 9, i+1)\n",
        "        plt.imshow(item[0], 'gray')"
      ],
      "execution_count": null,
      "outputs": []
    },
    {
      "cell_type": "markdown",
      "metadata": {
        "id": "LAqGXV0iK1G9"
      },
      "source": [
        "## Part 2. Colourization as Regression [5 pt]\n",
        "\n",
        "There are many ways to frame the problem of image colourization as a machine learning problem. One naive approach is to frame it as a regression problem, where we build a model to predict the RGB intensities at each pixel given the greyscale input. In this case, the outputs are continuous, and so squared error can be used to train the model.\n",
        "\n",
        "In this section, you will get familar with training neural networks using cloud GPUs. Run the helper code and answer the questions that follow.\n",
        "\n",
        "#### Helper Code"
      ]
    },
    {
      "cell_type": "markdown",
      "metadata": {
        "id": "9hNqfK1AktAE"
      },
      "source": [
        "Regression Architecture"
      ]
    },
    {
      "cell_type": "code",
      "metadata": {
        "id": "XOG_sFloK9gs"
      },
      "source": [
        "class RegressionCNN(nn.Module):\n",
        "    def __init__(self, kernel, num_filters):\n",
        "        # first call parent's initialization function\n",
        "        super().__init__()\n",
        "        padding = kernel // 2\n",
        "\n",
        "        self.downconv1 = nn.Sequential(\n",
        "            nn.Conv2d(1, num_filters, kernel_size=kernel, padding=padding),\n",
        "            nn.BatchNorm2d(num_filters),\n",
        "            nn.ReLU(),\n",
        "            nn.MaxPool2d(2),)\n",
        "        self.downconv2 = nn.Sequential(\n",
        "            nn.Conv2d(num_filters, num_filters*2, kernel_size=kernel, padding=padding),\n",
        "            nn.BatchNorm2d(num_filters*2),\n",
        "            nn.ReLU(),\n",
        "            nn.MaxPool2d(2),)\n",
        "\n",
        "        self.rfconv = nn.Sequential(\n",
        "            nn.Conv2d(num_filters*2, num_filters*2, kernel_size=kernel, padding=padding),\n",
        "            nn.BatchNorm2d(num_filters*2),\n",
        "            nn.ReLU())\n",
        "\n",
        "        self.upconv1 = nn.Sequential(\n",
        "            nn.Conv2d(num_filters*2, num_filters, kernel_size=kernel, padding=padding),\n",
        "            nn.BatchNorm2d(num_filters),\n",
        "            nn.ReLU(),\n",
        "            nn.Upsample(scale_factor=2),)\n",
        "        self.upconv2 = nn.Sequential(\n",
        "            nn.Conv2d(num_filters, 3, kernel_size=kernel, padding=padding),\n",
        "            nn.BatchNorm2d(3),\n",
        "            nn.ReLU(),\n",
        "            nn.Upsample(scale_factor=2),)\n",
        "        self.finalconv = nn.Conv2d(3, 3, kernel_size=kernel, padding=padding)\n",
        "\n",
        "    def forward(self, x):\n",
        "        out = self.downconv1(x)\n",
        "        out = self.downconv2(out)\n",
        "        out = self.rfconv(out)\n",
        "        out = self.upconv1(out)\n",
        "        out = self.upconv2(out)\n",
        "        out = self.finalconv(out)\n",
        "        return out"
      ],
      "execution_count": null,
      "outputs": []
    },
    {
      "cell_type": "markdown",
      "metadata": {
        "id": "6nXIHUDdkbe_"
      },
      "source": [
        "Training code"
      ]
    },
    {
      "cell_type": "code",
      "metadata": {
        "id": "UPJG13lnka2w"
      },
      "source": [
        "class AttrDict(dict):\n",
        "    def __init__(self, *args, **kwargs):\n",
        "        super(AttrDict, self).__init__(*args, **kwargs)\n",
        "        self.__dict__ = self\n",
        "\n",
        "def get_torch_vars(xs, ys, gpu=False):\n",
        "    \"\"\"\n",
        "    Helper function to convert numpy arrays to pytorch tensors.\n",
        "    If GPU is used, move the tensors to GPU.\n",
        "\n",
        "    Args:\n",
        "      xs (float numpy tenosor): greyscale input\n",
        "      ys (int numpy tenosor): rgb as labels\n",
        "      gpu (bool): whether to move pytorch tensor to GPU\n",
        "    Returns:\n",
        "      Variable(xs), Variable(ys)\n",
        "    \"\"\"\n",
        "    xs = torch.from_numpy(xs).float()\n",
        "    ys = torch.from_numpy(ys).float()\n",
        "    if gpu:\n",
        "        xs = xs.cuda()\n",
        "        ys = ys.cuda()\n",
        "    return Variable(xs), Variable(ys)\n",
        "\n",
        "def train(args, gen=None):\n",
        "\n",
        "    # Numpy random seed\n",
        "    npr.seed(args.seed)\n",
        "\n",
        "    # Save directory\n",
        "    save_dir = \"outputs/\" + args.experiment_name\n",
        "\n",
        "    # LOAD THE MODEL\n",
        "    if gen is None:\n",
        "        Net = globals()[args.model]\n",
        "        gen = Net(args.kernel, args.num_filters)\n",
        "\n",
        "    # LOSS FUNCTION\n",
        "    criterion = nn.MSELoss()\n",
        "    optimizer = torch.optim.Adam(gen.parameters(), lr=args.learn_rate)\n",
        "\n",
        "    # DATA\n",
        "    print(\"Loading data...\")\n",
        "    (x_train, y_train), (x_test, y_test) = load_cifar10()\n",
        "\n",
        "    print(\"Transforming data...\")\n",
        "    train_rgb, train_grey = process(x_train, y_train, downsize_input=args.downsize_input)\n",
        "    test_rgb, test_grey = process(x_test, y_test, downsize_input=args.downsize_input)\n",
        "\n",
        "    # Create the outputs folder if not created already\n",
        "    if not os.path.exists(save_dir):\n",
        "        os.makedirs(save_dir)\n",
        "\n",
        "    print(\"Beginning training ...\")\n",
        "    if args.gpu:\n",
        "        gen.cuda()\n",
        "    start = time.time()\n",
        "\n",
        "    iters = []\n",
        "    train_losses = []\n",
        "    valid_losses = []\n",
        "    valid_accs = []\n",
        "    n = 0 # the number of iterations\n",
        "    for epoch in range(args.epochs):\n",
        "        # Train the Model\n",
        "        gen.train()  # Change model to 'train' mode\n",
        "        losses = []\n",
        "        for i, (xs, ys) in enumerate(get_batch(train_grey, train_rgb, args.batch_size)):\n",
        "            images, labels = get_torch_vars(xs, ys, args.gpu)\n",
        "            # Forward + Backward + Optimize\n",
        "            optimizer.zero_grad()\n",
        "            outputs = gen(images)\n",
        "\n",
        "            loss = criterion(outputs, labels)\n",
        "            loss.backward()\n",
        "            optimizer.step()\n",
        "            losses.append(loss.data.item())\n",
        "        \n",
        "            imagesval, labelsval = get_torch_vars(test_grey, test_rgb, args.gpu)\n",
        "            outputval = gen(imagesval)\n",
        "            iters.append(n)\n",
        "            lossval = criterion(outputval, labelsval) \n",
        "            train_losses.append(np.average(loss.data.item()))\n",
        "            valid_losses.append(np.average(lossval.data.item()))\n",
        "            n += 1\n",
        "\n",
        "        print(epoch, loss.cpu().detach())\n",
        "        if args.plot:\n",
        "          visual(images, labels, outputs, args.gpu, 1)\n",
        "    \n",
        "    plt.title(\"Training Curve\")\n",
        "    plt.plot(iters, train_losses, label=\"Train\")\n",
        "    plt.plot(iters, valid_losses, label=\"Validation\")\n",
        "    plt.xlabel(\"Iterations\")\n",
        "    plt.ylabel(\"Training Accuracy\")\n",
        "    plt.legend(loc='best')\n",
        "    plt.show()\n",
        "    \n",
        "    print(\"Final Training Accuracy: {}\".format(train_losses[-1]))\n",
        "    print(\"Final Validation Accuracy: {}\".format(valid_losses[-1]))\n",
        "\n",
        "    return gen"
      ],
      "execution_count": null,
      "outputs": []
    },
    {
      "cell_type": "markdown",
      "metadata": {
        "id": "ppqKboqz-zX-"
      },
      "source": [
        "Training visualization code"
      ]
    },
    {
      "cell_type": "code",
      "metadata": {
        "id": "gbL_Vlao-yau"
      },
      "source": [
        "# visualize 5 train/test images\n",
        "def visual(img_grey, img_real, img_fake, gpu = 0, flag_torch = 0):\n",
        "\n",
        "  if gpu:\n",
        "    img_grey = img_grey.cpu().detach()\n",
        "    img_real = img_real.cpu().detach()\n",
        "    img_fake = img_fake.cpu().detach()\n",
        "\n",
        "  if flag_torch:\n",
        "    img_grey = img_grey.numpy()\n",
        "    img_real = img_real.numpy()\n",
        "    img_fake = img_fake.numpy()\n",
        "\n",
        "  if flag_torch == 2:\n",
        "    img_real = np.transpose(img_real[:, :, :, :, :], [0, 4, 2, 3, 1]).squeeze()\n",
        "    img_fake = np.transpose(img_fake[:, :, :, :, :], [0, 4, 2, 3, 1]).squeeze()\n",
        "\n",
        "  #correct image structure\n",
        "  img_grey = np.transpose(img_grey[:5, :, :, :], [0, 2, 3, 1]).squeeze()\n",
        "  img_real = np.transpose(img_real[:5, :, :, :], [0, 2, 3, 1])\n",
        "  img_fake = np.transpose(img_fake[:5, :, :, :], [0, 2, 3, 1])\n",
        "\n",
        "  for i in range(5):\n",
        "      ax = plt.subplot(3, 5, i + 1)\n",
        "      ax.imshow(img_grey[i], cmap='gray')\n",
        "      ax.axis(\"off\")\n",
        "      ax = plt.subplot(3, 5, i + 1 + 5)\n",
        "      ax.imshow(img_real[i])\n",
        "      ax.axis(\"off\")\n",
        "      ax = plt.subplot(3, 5, i + 1 + 10)\n",
        "      ax.imshow(img_fake[i])\n",
        "      ax.axis(\"off\")\n",
        "  plt.show()"
      ],
      "execution_count": null,
      "outputs": []
    },
    {
      "cell_type": "markdown",
      "metadata": {
        "id": "CTZWiuxMjQTB"
      },
      "source": [
        "Main training loop for regression CNN"
      ]
    },
    {
      "cell_type": "code",
      "metadata": {
        "id": "fZHc_eStGAQz"
      },
      "source": [
        "#Main training loop for CNN\n",
        "args = AttrDict()\n",
        "args_dict = {\n",
        "    \"gpu\": True,\n",
        "    \"valid\": False,\n",
        "    \"checkpoint\": \"\",\n",
        "    \"colours\": \"./data/colours/colour_kmeans24_cat7.npy\",\n",
        "    \"model\": \"RegressionCNN\",\n",
        "    \"kernel\": 3,\n",
        "    \"num_filters\": 32,\n",
        "    'learn_rate':0.001, \n",
        "    \"batch_size\": 100,\n",
        "    \"epochs\": 25,\n",
        "    \"seed\": 0,\n",
        "    \"plot\": True,\n",
        "    \"experiment_name\": \"colourization_cnn\",\n",
        "    \"visualize\": False,\n",
        "    \"downsize_input\": False,\n",
        "}\n",
        "\n",
        "args.update(args_dict)\n",
        "cnn = train(args)"
      ],
      "execution_count": null,
      "outputs": []
    },
    {
      "cell_type": "markdown",
      "metadata": {
        "id": "nSgRyuNUcG3N"
      },
      "source": [
        "##Part C Answers"
      ]
    },
    {
      "cell_type": "code",
      "metadata": {
        "id": "8Vj80nWZP8kZ"
      },
      "source": [
        "#Main training loop for CNN\n",
        "args = AttrDict()\n",
        "args_dict = {\n",
        "    \"gpu\": True,\n",
        "    \"valid\": False,\n",
        "    \"checkpoint\": \"\",\n",
        "    \"colours\": \"./data/colours/colour_kmeans24_cat7.npy\",\n",
        "    \"model\": \"RegressionCNN\",\n",
        "    \"kernel\": 3,\n",
        "    \"num_filters\": 64,\n",
        "    'learn_rate':0.01, \n",
        "    \"batch_size\": 100,\n",
        "    \"epochs\": 30,\n",
        "    \"seed\": 0,\n",
        "    \"plot\": True,\n",
        "    \"experiment_name\": \"colourization_cnn\",\n",
        "    \"visualize\": False,\n",
        "    \"downsize_input\": False,\n",
        "}\n",
        "\n",
        "args.update(args_dict)\n",
        "cnn = train(args)"
      ],
      "execution_count": null,
      "outputs": []
    },
    {
      "cell_type": "code",
      "metadata": {
        "id": "rJdMcCCjQDoC"
      },
      "source": [
        "#Main training loop for CNN\n",
        "args = AttrDict()\n",
        "args_dict = {\n",
        "    \"gpu\": True,\n",
        "    \"valid\": False,\n",
        "    \"checkpoint\": \"\",\n",
        "    \"colours\": \"./data/colours/colour_kmeans24_cat7.npy\",\n",
        "    \"model\": \"RegressionCNN\",\n",
        "    \"kernel\": 3,\n",
        "    \"num_filters\": 64,\n",
        "    'learn_rate':0.001, \n",
        "    \"batch_size\": 50,\n",
        "    \"epochs\": 30,\n",
        "    \"seed\": 0,\n",
        "    \"plot\": True,\n",
        "    \"experiment_name\": \"colourization_cnn\",\n",
        "    \"visualize\": False,\n",
        "    \"downsize_input\": False,\n",
        "}\n",
        "\n",
        "args.update(args_dict)\n",
        "cnn = train(args)"
      ],
      "execution_count": null,
      "outputs": []
    },
    {
      "cell_type": "code",
      "metadata": {
        "id": "0RwMAtCQQVy8"
      },
      "source": [
        "#Main training loop for CNN\n",
        "args = AttrDict()\n",
        "args_dict = {\n",
        "    \"gpu\": True,\n",
        "    \"valid\": False,\n",
        "    \"checkpoint\": \"\",\n",
        "    \"colours\": \"./data/colours/colour_kmeans24_cat7.npy\",\n",
        "    \"model\": \"RegressionCNN\",\n",
        "    \"kernel\": 3,\n",
        "    \"num_filters\": 64,\n",
        "    'learn_rate':0.01, \n",
        "    \"batch_size\": 100,\n",
        "    \"epochs\": 50,\n",
        "    \"seed\": 0,\n",
        "    \"plot\": True,\n",
        "    \"experiment_name\": \"colourization_cnn\",\n",
        "    \"visualize\": False,\n",
        "    \"downsize_input\": False,\n",
        "}\n",
        "\n",
        "args.update(args_dict)\n",
        "cnn = train(args)"
      ],
      "execution_count": null,
      "outputs": []
    },
    {
      "cell_type": "code",
      "metadata": {
        "id": "-ZexaGALQYwm"
      },
      "source": [
        "#Main training loop for CNN\n",
        "args = AttrDict()\n",
        "args_dict = {\n",
        "    \"gpu\": True,\n",
        "    \"valid\": False,\n",
        "    \"checkpoint\": \"\",\n",
        "    \"colours\": \"./data/colours/colour_kmeans24_cat7.npy\",\n",
        "    \"model\": \"RegressionCNN\",\n",
        "    \"kernel\": 3,\n",
        "    \"num_filters\": 64,\n",
        "    'learn_rate':0.001, \n",
        "    \"batch_size\": 75,\n",
        "    \"epochs\": 30,\n",
        "    \"seed\": 0,\n",
        "    \"plot\": True,\n",
        "    \"experiment_name\": \"colourization_cnn\",\n",
        "    \"visualize\": False,\n",
        "    \"downsize_input\": False,\n",
        "}\n",
        "\n",
        "args.update(args_dict)\n",
        "cnn = train(args)"
      ],
      "execution_count": null,
      "outputs": []
    },
    {
      "cell_type": "markdown",
      "metadata": {
        "id": "-KCy7KexsLgl"
      },
      "source": [
        "### Part (a) [1 pt]\n",
        "Describe the model RegressionCNN. How many convolution layers does it have? What are the filter sizes and number of filters at each layer? Construct a table or draw a diagram."
      ]
    },
    {
      "cell_type": "markdown",
      "metadata": {
        "id": "u-Zx_yc-f98q"
      },
      "source": [
        "Answer: The model has 6 CNN layers, with batch normalization, ReLU and Maxpool after each layer except the last layer. The kernel size is 3 and it has 32 out filters in the first layer. Second layer has kernel size of 3 and  64 out filters. Third layer has kernel size of 3 and  64 out filters. Forth layer has kernel size of 3 and  32 out filters. Fifth layer has kernel size of 3 and  3 out filters. Last layer has kernel size of 3 and 3 out filters."
      ]
    },
    {
      "cell_type": "markdown",
      "metadata": {
        "id": "eXTM_iITgED9"
      },
      "source": [
        "### Part (b) [1 pt]\n",
        "Run the regression training code (should run without errors). This will generate some images. How many epochs are we training the CNN model in the given setting?"
      ]
    },
    {
      "cell_type": "markdown",
      "metadata": {
        "id": "5-JJ2KD4gED-"
      },
      "source": [
        "Answer: The model ran without problems and we are training the models for 25 epochs"
      ]
    },
    {
      "cell_type": "markdown",
      "metadata": {
        "id": "M5hSmTLxgEWG"
      },
      "source": [
        "### Part (c) [3 pt]\n",
        "Re-train a couple of new models using a different number of training epochs. You may train each new models in a new code cell by copying and modifying the code from the last notebook cell. Comment on how the results (output images, training loss) change as we increase or decrease the number of epochs."
      ]
    },
    {
      "cell_type": "markdown",
      "metadata": {
        "id": "2fTXWbe4gEWH"
      },
      "source": [
        "*Answer*: The model was retrained several times with changing LR, Epoch and batch sizes. Please see the models runs above. In total model was run 3 seperate times. It was noted that batch size of 100 results in better loss. Higher batch results in lower loss. Increasing epoch also helps with better predictions. The lowest loss was achived with batch size 100, lr 0.01, epoch 30 trainig loss of 0.006165 and testing loss of 0.005752."
      ]
    },
    {
      "cell_type": "markdown",
      "metadata": {
        "id": "kb248qFXhq1m"
      },
      "source": [
        "## Part 3. Skip Connections [8 pt]\n",
        "A skip connection in a neural network is a connection which skips one or more layer and connects to a later layer. We will introduce skip connections."
      ]
    },
    {
      "cell_type": "markdown",
      "metadata": {
        "id": "babFMNf_h9UM"
      },
      "source": [
        "### Part (a) [4 pt]\n",
        "Add a skip connection from the first layer to the last, second layer to the second last, etc.\n",
        "That is, the final convolution should have both the output of the previous layer and the initial greyscale input as input. This type of skip-connection is introduced by [3], and is called a \"UNet\". Following the CNN class that you have completed, complete the __init__ and forward methods of the UNet class.\n",
        "Hint: You will need to use the function torch.cat."
      ]
    },
    {
      "cell_type": "code",
      "metadata": {
        "id": "vsipREOi1r7F"
      },
      "source": [
        "#complete the code\n",
        "\n",
        "class UNet(nn.Module):\n",
        "    def __init__(self, kernel, num_filters, num_colours=3, num_in_channels=1):\n",
        "        super().__init__()\n",
        "\n",
        "        # Useful parameters\n",
        "        stride = 2\n",
        "        padding = kernel // 2\n",
        "        output_padding = 1\n",
        "\n",
        "        self.downconv1 = nn.Sequential(\n",
        "            nn.Conv2d(1, num_filters, kernel_size=kernel, padding=padding),\n",
        "            nn.BatchNorm2d(num_filters),\n",
        "            nn.ReLU(),\n",
        "            nn.MaxPool2d(2),)\n",
        "        \n",
        "        self.downconv2 = nn.Sequential(\n",
        "            nn.Conv2d(num_filters, num_filters*2, kernel_size=kernel, padding=padding),\n",
        "            nn.BatchNorm2d(num_filters*2),\n",
        "            nn.ReLU(),\n",
        "            nn.MaxPool2d(2),)\n",
        "\n",
        "        self.rfconv = nn.Sequential(\n",
        "            nn.Conv2d(num_filters*2, num_filters*2, kernel_size=kernel, padding=padding),\n",
        "            nn.BatchNorm2d(num_filters*2),\n",
        "            nn.ReLU())\n",
        "\n",
        "        self.upconv1 = nn.Sequential(\n",
        "            nn.Conv2d(num_filters*4, num_filters, kernel_size=kernel, padding=padding),\n",
        "            nn.BatchNorm2d(num_filters),\n",
        "            nn.ReLU(),\n",
        "            nn.Upsample(scale_factor=2),)\n",
        "        \n",
        "        self.upconv2 = nn.Sequential(\n",
        "            nn.Conv2d(num_filters*2, 3, kernel_size=kernel, padding=padding),\n",
        "            nn.BatchNorm2d(3),\n",
        "            nn.ReLU(),\n",
        "            nn.Upsample(scale_factor=2),)\n",
        "        \n",
        "        self.finalconv = nn.Conv2d(3+1, 3, kernel_size=kernel, padding=padding)\n",
        "\n",
        "\n",
        "    def forward(self, x):\n",
        "        out_1 = self.downconv1(x)\n",
        "        out_2 = self.downconv2(out_1)\n",
        "        out_3 = self.rfconv(out_2)\n",
        "        out_4 = self.upconv1(torch.cat((out_3, out_2),1))\n",
        "        out_5 = self.upconv2(torch.cat((out_4, out_1),1))\n",
        "        out_6 = self.finalconv(torch.cat((out_5, x),1))\n",
        "        \n",
        "        return out_6"
      ],
      "execution_count": null,
      "outputs": []
    },
    {
      "cell_type": "markdown",
      "metadata": {
        "id": "6VzFtk3hh9UN"
      },
      "source": [
        "### Part (b) [2 pt]\n",
        "Train the \"UNet\" model for the same amount of epochs as the previous CNN and plot the training curve using a batch size of 100. How does the result compare to the previous model? Did skip connections improve the validation loss and accuracy? Did the skip connections improve the output qualitatively? How? Give at least two reasons why skip connections might improve the performance of our CNN models."
      ]
    },
    {
      "cell_type": "markdown",
      "metadata": {
        "id": "p-rQQUiS2ec3"
      },
      "source": [
        "Answer:\n",
        "\n",
        "The result improved significantly. Skip connection was able to improve the accuracy and also improve the image appearance. Yes, loss and validation accuracy improved. In the last model validation loss and accuracy was 0.007986, whereas in this model the validation loss and accuracy dropped down to 0.005397. Yes, imaged quality was improved. Images were less blurry, and more color can be seen with same number of epochs. Skip connection improve quality because some information is short circuited between layers this way model prefers to learn whether the information of pervious layer is important to information from last layer is important. Secondly, in maxpooling some information is lost slip connections allows the model to skip the max pooling which allows the last layers to have more information, thus improving the accuracy of the model."
      ]
    },
    {
      "cell_type": "code",
      "metadata": {
        "id": "2-vGs7qHndmY"
      },
      "source": [
        "# Main training loop for UNet\n",
        "args = AttrDict()\n",
        "args_dict = {\n",
        "    \"gpu\": True,\n",
        "    \"valid\": False,\n",
        "    \"checkpoint\": \"\",\n",
        "    \"colours\": \"./data/colours/colour_kmeans24_cat7.npy\",\n",
        "    \"model\": \"UNet\",\n",
        "    \"kernel\": 3,\n",
        "    \"num_filters\": 32,\n",
        "    'learn_rate':0.001, \n",
        "    \"batch_size\": 100,\n",
        "    \"epochs\": 25,\n",
        "    \"seed\": 0,\n",
        "    \"plot\": True,\n",
        "    \"experiment_name\": \"colourization_cnn\",\n",
        "    \"visualize\": False,\n",
        "    \"downsize_input\": False,\n",
        "}\n",
        "args.update(args_dict)\n",
        "cnn, train_loss, val_loss = train(args)"
      ],
      "execution_count": null,
      "outputs": []
    },
    {
      "cell_type": "markdown",
      "metadata": {
        "id": "W6fl2PcliJTd"
      },
      "source": [
        "### Part (c) [2 pt]\n",
        "Re-train a few more \"UNet\" models using different mini batch sizes with a fixed number of epochs. Describe the effect of batch sizes on the training/validation loss, and the final image output."
      ]
    },
    {
      "cell_type": "markdown",
      "metadata": {
        "id": "YcTieI_v71kN"
      },
      "source": [
        "Answer: Batch size helps imporve the loss and image quaility. Smaller the batch better the image quality and lower loss."
      ]
    },
    {
      "cell_type": "code",
      "metadata": {
        "id": "ZWF83JjpiJTd"
      },
      "source": [
        "# Main training loop for UNet\n",
        "args = AttrDict()\n",
        "args_dict = {\n",
        "    \"gpu\": True,\n",
        "    \"valid\": False,\n",
        "    \"checkpoint\": \"\",\n",
        "    \"colours\": \"./data/colours/colour_kmeans24_cat7.npy\",\n",
        "    \"model\": \"UNet\",\n",
        "    \"kernel\": 3,\n",
        "    \"num_filters\": 32,\n",
        "    'learn_rate':0.001, \n",
        "    \"batch_size\": 50,\n",
        "    \"epochs\": 25,\n",
        "    \"seed\": 0,\n",
        "    \"plot\": True,\n",
        "    \"experiment_name\": \"colourization_cnn\",\n",
        "    \"visualize\": False,\n",
        "    \"downsize_input\": False,\n",
        "}\n",
        "args.update(args_dict)\n",
        "cnn = train(args)"
      ],
      "execution_count": null,
      "outputs": []
    },
    {
      "cell_type": "code",
      "metadata": {
        "id": "SG2sbUT5bx8W"
      },
      "source": [
        "# Main training loop for UNet\n",
        "args = AttrDict()\n",
        "args_dict = {\n",
        "    \"gpu\": True,\n",
        "    \"valid\": False,\n",
        "    \"checkpoint\": \"\",\n",
        "    \"colours\": \"./data/colours/colour_kmeans24_cat7.npy\",\n",
        "    \"model\": \"UNet\",\n",
        "    \"kernel\": 3,\n",
        "    \"num_filters\": 32,\n",
        "    'learn_rate':0.001, \n",
        "    \"batch_size\": 25,\n",
        "    \"epochs\": 25,\n",
        "    \"seed\": 0,\n",
        "    \"plot\": True,\n",
        "    \"experiment_name\": \"colourization_cnn\",\n",
        "    \"visualize\": False,\n",
        "    \"downsize_input\": False,\n",
        "}\n",
        "args.update(args_dict)\n",
        "cnn = train(args)"
      ],
      "execution_count": null,
      "outputs": []
    },
    {
      "cell_type": "code",
      "metadata": {
        "id": "OKvMo8RJbz7b"
      },
      "source": [
        "# Main training loop for UNet\n",
        "args = AttrDict()\n",
        "args_dict = {\n",
        "    \"gpu\": True,\n",
        "    \"valid\": False,\n",
        "    \"checkpoint\": \"\",\n",
        "    \"colours\": \"./data/colours/colour_kmeans24_cat7.npy\",\n",
        "    \"model\": \"UNet\",\n",
        "    \"kernel\": 3,\n",
        "    \"num_filters\": 32,\n",
        "    'learn_rate':0.001, \n",
        "    \"batch_size\": 200,\n",
        "    \"epochs\": 25,\n",
        "    \"seed\": 0,\n",
        "    \"plot\": True,\n",
        "    \"experiment_name\": \"colourization_cnn\",\n",
        "    \"visualize\": False,\n",
        "    \"downsize_input\": False,\n",
        "}\n",
        "args.update(args_dict)\n",
        "cnn = train(args)"
      ],
      "execution_count": null,
      "outputs": []
    },
    {
      "cell_type": "markdown",
      "metadata": {
        "id": "YCjRpOlEuuJj"
      },
      "source": [
        "# PART B - Conditional GAN [30 pt]\n",
        "\n",
        "In this second half of the assignment we will construct a conditional generative adversarial network for our image colourization task."
      ]
    },
    {
      "cell_type": "markdown",
      "metadata": {
        "id": "bNgohSYXiWnD"
      },
      "source": [
        "## Part 1. Conditional GAN [15 pt]\n",
        "\n",
        "To start we will be modifying the previous sample code to construct and train a conditional GAN. We will exploring the different architectures to identify and select our best image colourization model.\n",
        "\n",
        "Note: This second half of the assignment should be started after the lecture on generative adversarial networks (GANs). \n"
      ]
    },
    {
      "cell_type": "markdown",
      "metadata": {
        "id": "R-TzCQBe_6Uk"
      },
      "source": [
        "### Part (a) [3 pt]\n",
        "Modify the provided training code to implement a generator. Then test to verify it works on the desired input (Hint: you can reuse some of your earlier autoencoder models here to act as a generator)"
      ]
    },
    {
      "cell_type": "code",
      "metadata": {
        "id": "9LEiPO0SP_Tx"
      },
      "source": [
        "%matplotlib inline\n",
        "import torch\n",
        "import torch.nn as nn\n",
        "import pandas as pd\n",
        "import numpy as np\n",
        "from torchvision import transforms\n",
        "from torchvision import datasets\n",
        "\n",
        "from torch.utils.data import Dataset, DataLoader\n",
        "from PIL import Image\n",
        "from torch import autograd\n",
        "from torch.autograd import Variable\n",
        "from torchvision.utils import make_grid\n",
        "import matplotlib.pyplot as plt"
      ],
      "execution_count": null,
      "outputs": []
    },
    {
      "cell_type": "code",
      "metadata": {
        "id": "VRB4eJQIFFAD"
      },
      "source": [
        "class Generator(nn.Module):\n",
        "    def __init__(self, kernel, num_filters, num_colours=3, num_in_channels=1):\n",
        "        super().__init__()\n",
        "\n",
        "        # Useful parameters\n",
        "        stride = 2\n",
        "        padding = kernel // 2\n",
        "        output_padding = 1\n",
        "\n",
        "        self.downconv1 = nn.Sequential(\n",
        "            nn.Conv2d(1, num_filters, kernel_size=kernel, padding=padding),\n",
        "            nn.BatchNorm2d(num_filters),\n",
        "            nn.ReLU(),\n",
        "            nn.MaxPool2d(2),)\n",
        "        \n",
        "        self.downconv2 = nn.Sequential(\n",
        "            nn.Conv2d(num_filters, num_filters*2, kernel_size=kernel, padding=padding),\n",
        "            nn.BatchNorm2d(num_filters*2),\n",
        "            nn.ReLU(),\n",
        "            nn.MaxPool2d(2),)\n",
        "\n",
        "        self.rfconv = nn.Sequential(\n",
        "            nn.Conv2d(num_filters*2, num_filters*2, kernel_size=kernel, padding=padding),\n",
        "            nn.BatchNorm2d(num_filters*2),\n",
        "            nn.ReLU())\n",
        "\n",
        "        self.upconv1 = nn.Sequential(\n",
        "            nn.Conv2d(num_filters*4, num_filters, kernel_size=kernel, padding=padding),\n",
        "            nn.BatchNorm2d(num_filters),\n",
        "            nn.ReLU(),\n",
        "            nn.Upsample(scale_factor=2),)\n",
        "        \n",
        "        self.upconv2 = nn.Sequential(\n",
        "            nn.Conv2d(num_filters*2, 3, kernel_size=kernel, padding=padding),\n",
        "            nn.BatchNorm2d(3),\n",
        "            nn.ReLU(),\n",
        "            nn.Upsample(scale_factor=2),)\n",
        "        \n",
        "        self.finalconv = nn.Conv2d(3+1, 3, kernel_size=kernel, padding=padding)\n",
        "        \n",
        "        ############### YOUR CODE GOES HERE ############### \n",
        "        ###################################################\n",
        " \n",
        "\n",
        "\n",
        "\n",
        "    def forward(self, x):\n",
        "        out_1 = self.downconv1(x)\n",
        "        out_2 = self.downconv2(out_1)\n",
        "        out_3 = self.rfconv(out_2)\n",
        "        out_4 = self.upconv1(torch.cat((out_3, out_2),1))\n",
        "        out_5 = self.upconv2(torch.cat((out_4, out_1),1))\n",
        "        out_6 = self.finalconv(torch.cat((out_5, x),1))\n",
        "        \n",
        "        ############### YOUR CODE GOES HERE ###############\n",
        "        ###################################################\n",
        "        return out_6"
      ],
      "execution_count": null,
      "outputs": []
    },
    {
      "cell_type": "markdown",
      "metadata": {
        "id": "a-x5Vl6p8VdC"
      },
      "source": [
        "Testing the Generator"
      ]
    },
    {
      "cell_type": "code",
      "metadata": {
        "id": "-TpgRI8uYieh"
      },
      "source": [
        "#test generator architecture\n",
        "#provide arguments to create generator architecture\n",
        "g = Generator(3,16,24,1)\n",
        "#create a sample mini-batch of greyscale images\n",
        "img_greyscale = torch.rand(100,1,32,32)\n",
        "#generate fake image\n",
        "img_fake = g(img_greyscale)"
      ],
      "execution_count": null,
      "outputs": []
    },
    {
      "cell_type": "code",
      "metadata": {
        "id": "iRDqynsk3UeG"
      },
      "source": [
        "#verify output dimensions are correct \n",
        "print(img_fake.shape)"
      ],
      "execution_count": null,
      "outputs": []
    },
    {
      "cell_type": "markdown",
      "metadata": {
        "id": "4o4lkOgF_3A2"
      },
      "source": [
        "### Part (b) [3 pt]\n",
        "Modify the provided training code to implement a discriminator. Then test to verify it works on the desired input."
      ]
    },
    {
      "cell_type": "code",
      "metadata": {
        "id": "MHvxX5jrF0Pw"
      },
      "source": [
        "# discriminator code\n",
        "\n",
        "class Discriminator(nn.Module):\n",
        "    def __init__(self, kernel, num_filters, num_colours=3, num_in_channels=1):\n",
        "        super().__init__()\n",
        "        \n",
        "        # Useful parameters\n",
        "        stride = 2\n",
        "        padding = kernel // 2\n",
        "        output_padding = 1\n",
        "        \n",
        "        self.model = nn.Sequential(\n",
        "            nn.Linear(4096, 1024),\n",
        "            nn.LeakyReLU(0.2, inplace=True),\n",
        "            nn.Dropout(0.3),\n",
        "            nn.Linear(1024, 512),\n",
        "            nn.LeakyReLU(0.2, inplace=True),\n",
        "            nn.Dropout(0.3),\n",
        "            nn.Linear(512, 256),\n",
        "            nn.LeakyReLU(0.2, inplace=True),\n",
        "            nn.Dropout(0.3),\n",
        "            nn.Linear(256, 1),\n",
        "            nn.Sigmoid()\n",
        "        )        \n",
        "        ############### YOUR CODE GOES HERE ############### \n",
        "        ###################################################\n",
        "    \n",
        "    \n",
        "    def forward(self, x, img_greyscale):\n",
        "        \n",
        "        x = x.view(x.size(0), -1)\n",
        "        c = img_greyscale.view(img_greyscale.size(0), -1)\n",
        "        x = torch.cat([x, c], 1)\n",
        "        out = self.model(x)\n",
        "        out =  out.squeeze()\n",
        "        ############### YOUR CODE GOES HERE ###############\n",
        "        ###################################################\n",
        "        return out"
      ],
      "execution_count": null,
      "outputs": []
    },
    {
      "cell_type": "markdown",
      "metadata": {
        "id": "IS2WuCju8RwY"
      },
      "source": [
        "Testing the discriminator"
      ]
    },
    {
      "cell_type": "code",
      "metadata": {
        "id": "Xaw5C6w9Wrlx"
      },
      "source": [
        "# test discriminator architecture\n",
        "#provide arguments to create Discriminator architecture\n",
        "d = Discriminator(3,64)\n",
        "#create a sample mini-batch of greyscale images\n",
        "img_greyscale = torch.rand(100,1,32,32)\n",
        "#create a sample mini-batch of rgb images\n",
        "img_rgbcale = torch.rand(100,3,32,32)\n",
        "#generate fake image\n",
        "prediciton = d(img_rgbcale,img_greyscale)"
      ],
      "execution_count": null,
      "outputs": []
    },
    {
      "cell_type": "code",
      "metadata": {
        "id": "W6Df-AnyFrMI"
      },
      "source": [
        "print(prediciton.shape)"
      ],
      "execution_count": null,
      "outputs": []
    },
    {
      "cell_type": "markdown",
      "metadata": {
        "id": "tM8DcScdiWnD"
      },
      "source": [
        "### Part (c) [3 pt]\n",
        "Modify the provided training code to implement a conditional GAN."
      ]
    },
    {
      "cell_type": "code",
      "metadata": {
        "id": "TMPQPSykNTwi"
      },
      "source": [
        "class AttrDict(dict):\n",
        "    def __init__(self, *args, **kwargs):\n",
        "        super(AttrDict, self).__init__(*args, **kwargs)\n",
        "        self.__dict__ = self\n",
        "\n",
        "def get_torch_vars(xs, ys, gpu=False):\n",
        "    \"\"\"\n",
        "    Helper function to convert numpy arrays to pytorch tensors.\n",
        "    If GPU is used, move the tensors to GPU.\n",
        "\n",
        "    Args:\n",
        "      xs (float numpy tenosor): greyscale input\n",
        "      ys (int numpy tenosor): categorical labels\n",
        "      gpu (bool): whether to move pytorch tensor to GPU\n",
        "    Returns:\n",
        "      Variable(xs), Variable(ys)\n",
        "    \"\"\"\n",
        "    xs = torch.from_numpy(xs).float()\n",
        "    ys = torch.from_numpy(ys).float() #--> ADDED for cGAN\n",
        "    if gpu:\n",
        "        xs = xs.cuda()\n",
        "        ys = ys.cuda()\n",
        "    return Variable(xs), Variable(ys)\n",
        "\n",
        "def train(args, cnn=None):\n",
        "    # Set the maximum number of threads to prevent crash in Teaching Labs\n",
        "    # TODO: necessary?\n",
        "    torch.set_num_threads(5)\n",
        "    # Numpy random seed\n",
        "    npr.seed(args.seed)\n",
        "\n",
        "    # Save directory\n",
        "    save_dir = \"outputs/\" + args.experiment_name\n",
        "\n",
        "    # LOAD THE COLOURS CATEGORIES\n",
        "\n",
        "    # INPUT CHANNEL\n",
        "    num_in_channels = 1 if not args.downsize_input else 3\n",
        "    # LOAD THE MODEL\n",
        "    if cnn is None:\n",
        "        Net = globals()[args.model]\n",
        "        cnn = Generator(args.kernel, args.num_filters)\n",
        "        discriminator = Discriminator(args.kernel, args.num_filters)\n",
        "\n",
        "\n",
        "    # LOSS FUNCTION\n",
        "\n",
        "    criterion = nn.BCELoss()                                                    \n",
        "    g_optimizer = torch.optim.Adam(cnn.parameters(), lr=args.learn_rate)\n",
        "    d_optimizer = torch.optim.Adam(discriminator.parameters(), lr=args.learn_rate)\n",
        "\n",
        "    # DATA\n",
        "    print(\"Loading data...\")\n",
        "    (x_train, y_train), (x_test, y_test) = load_cifar10()\n",
        "\n",
        "    print(\"Transforming data...\")\n",
        "    train_rgb, train_grey = process(x_train, y_train, downsize_input=args.downsize_input)\n",
        "    test_rgb, test_grey = process(x_test, y_test, downsize_input=args.downsize_input)\n",
        "\n",
        "    # Create the outputs folder if not created already\n",
        "    if not os.path.exists(save_dir):\n",
        "        os.makedirs(save_dir)\n",
        "\n",
        "    print(\"Beginning training ...\")\n",
        "    if args.gpu:\n",
        "        cnn.cuda()\n",
        "        discriminator.cuda()\n",
        "    start = time.time()\n",
        "\n",
        "    train_losses = []\n",
        "    valid_losses = []\n",
        "    valid_accs = []\n",
        "    for epoch in range(args.epochs):\n",
        "        # Train the Model\n",
        "        cnn.train()\n",
        "        discriminator.train()\n",
        "        losses = []\n",
        " \n",
        "        for i, (xs, ys) in enumerate(get_batch(train_grey, train_rgb, args.batch_size)):\n",
        "            images, labels = get_torch_vars(xs, ys, args.gpu)\n",
        "\n",
        "            #--->ADDED 5\n",
        "            img_grey = images\n",
        "            img_real = labels\n",
        "            batch_size = args.batch_size\n",
        "            \n",
        "            #discriminator training\n",
        "            d_optimizer.zero_grad()\n",
        "\n",
        "            # train with real images\n",
        "            real_validity = discriminator(img_real, img_grey)\n",
        "            real_loss = criterion(real_validity, Variable(torch.ones(batch_size)).cuda())\n",
        "    \n",
        "            # train with fake images\n",
        "            fake_images = cnn(img_grey)\n",
        "            fake_validity = discriminator(fake_images,  img_grey)\n",
        "            fake_loss = criterion(fake_validity, Variable(torch.zeros(batch_size)).cuda())\n",
        "    \n",
        "            d_loss = real_loss + fake_loss            \n",
        "\n",
        "            d_loss.backward()\n",
        "            d_optimizer.step()\n",
        "\n",
        "            # generator training\n",
        "            g_optimizer.zero_grad()\n",
        "            fake_images = cnn(img_grey)\n",
        "            validity = discriminator(fake_images, img_grey)\n",
        "            g_loss = criterion(validity, Variable(torch.ones(batch_size)).cuda())\n",
        "\n",
        "            g_loss.backward()\n",
        "            g_optimizer.step()\n",
        "\n",
        "\n",
        "        # print and visualize\n",
        "        print(epoch, g_loss.cpu().detach(), d_loss.cpu().detach())\n",
        "        visual(images, labels, fake_images, args.gpu, 1)\n",
        "\n",
        "    return cnn"
      ],
      "execution_count": null,
      "outputs": []
    },
    {
      "cell_type": "markdown",
      "metadata": {
        "id": "9KnN4Bc8iv_Y"
      },
      "source": [
        "### Part (d) [3 pt]\n",
        "Train a conditional GAN for image colourization."
      ]
    },
    {
      "cell_type": "code",
      "metadata": {
        "id": "efwUBO_Yiv_Y"
      },
      "source": [
        "args = AttrDict()\n",
        "args_dict = {\n",
        "    \"gpu\": True,\n",
        "    \"valid\": False,\n",
        "    \"checkpoint\": \"\",\n",
        "    \"colours\": \"./data/colours/colour_kmeans24_cat7.npy\",\n",
        "    \"model\": \"Generator\",\n",
        "    \"kernel\": 5,\n",
        "    \"num_filters\": 64,\n",
        "    'learn_rate':0.0001, \n",
        "    \"batch_size\": 200,\n",
        "    \"epochs\": 200,\n",
        "    \"seed\": 0,\n",
        "    \"plot\": False,\n",
        "    \"experiment_name\": \"colourization_cnn\",\n",
        "    \"visualize\": False,\n",
        "    \"downsize_input\": False,\n",
        "}\n",
        "args.update(args_dict)\n",
        "cnn = train(args)\n",
        "\n",
        "#batch size of 50 with 100 epochs seamed to work"
      ],
      "execution_count": null,
      "outputs": []
    },
    {
      "cell_type": "markdown",
      "metadata": {
        "id": "S0ntCfgQkCAF"
      },
      "source": [
        "### Part (e) [1 pt]\n",
        "How does the performance of the cGAN compare with the autoencoder models that you tested in the first half of this assignment?"
      ]
    },
    {
      "cell_type": "markdown",
      "metadata": {
        "id": "stxojIJXkGvv"
      },
      "source": [
        "Answer: cGAN image quality was not as good as the Autoencoder. The images were blurry, but some images had better color than Autoencoder. In cGAN the images were generated from scratch, whereas in Autoencoder the images existed, and the model was just learning to color the images. cGAN are much more versatile, once they learn and are trained well, they can be used to create images from scratch or random noise."
      ]
    },
    {
      "cell_type": "markdown",
      "metadata": {
        "id": "t2ez4CJdgQvP"
      },
      "source": [
        "### Part (f) [2 pt]\n",
        "\n",
        "A colour space is a choice of mapping of colours into three-dimensional coordinates. Some colours could be close together in one colour space, but further apart in others. The RGB colour space is probably the most familiar to you, the model used in in our regression colourization example computes squared error in RGB colour space. But, most state of the art colourization models\n",
        "do not use RGB colour space. How could using the RGB colour space be problematic? Your answer should relate how human perception of colour is different than the squared distance. You may use the Wikipedia article on colour space to help you answer the question."
      ]
    },
    {
      "cell_type": "markdown",
      "metadata": {
        "id": "b5WXfVI7gQvQ"
      },
      "source": [
        "Answer:\n",
        "Human eyes are sensitive to specific colors and shades. But for some colors they can have hard time to distinguish. This means different colors and intensity causes humans to see differently, green shade is more sensitive where blue is less sensitive to humans. Taking the MSE between green and blue color would be the same, whereas showing green and blue shades human eye will perceive it as a larger change."
      ]
    },
    {
      "cell_type": "markdown",
      "metadata": {
        "id": "jda8pXEQ4HKa"
      },
      "source": [
        "## Part 2. Exploration [10 pt]\n",
        "\n",
        "At this point we have trained a few different generative models for our image colourization task with varying results. What makes this work exciting is that there many other approaches we could take. In this part of the assignment you will be exploring at least one of several approaches towards improving our performance on the image colourization task. Some well known approaches you can consider include:\n",
        "\n",
        "- lab colour space representation instead of RBG which simplifies the problem and requires you to predict two output channels instead of three\n",
        "- k-means to represent RBG colourspace by 'k' distinct colours, this effectively changes the problem from regression to classification.\n",
        "\n",
        "Other interesting approaches include:\n",
        "- combining L1 loss along with the discriminator-based loss\n",
        "- starting with a pretrained generator (i.e. Resnet)\n",
        "- patch discriminator trained on local regions\n",
        "\n",
        "A great example of some of these different approaches can be found in a <a href=\"https://towardsdatascience.com/colorizing-black-white-images-with-u-net-and-conditional-gan-a-tutorial-81b2df111cd8\">blog post by Moein Shariatnia</a>.\n",
        "\n",
        "Note you are only required to pick one of the suggested modifications."
      ]
    },
    {
      "cell_type": "markdown",
      "metadata": {
        "id": "Io6JkbDWTOX6"
      },
      "source": [
        "**Answer#**\n",
        "I will be trying the first option#\n",
        "\n",
        "lab color space representation instead of RBG which simplifies the problem and requires you to predict two output channels instead of three\n",
        "\n",
        "Reason I believe this will perform well is because the predication are reduced down from 3 colors to 2 colors. This will enable the same model to predict better colors with higher accuracy.\n"
      ]
    },
    {
      "cell_type": "code",
      "metadata": {
        "id": "NYQDXpKYruII"
      },
      "source": [
        "from skimage.color import rgb2lab, lab2rgb"
      ],
      "execution_count": null,
      "outputs": []
    },
    {
      "cell_type": "markdown",
      "metadata": {
        "id": "JUtPs5MDR6VN"
      },
      "source": [
        "New process function which takes the train sample in rbd format and converts them to L.A.B. Parts of the functions were taken from the follwing artical. https://towardsdatascience.com/colorizing-black-white-images-with-u-net-and-conditional-gan-a-tutorial-81b2df111cd8"
      ]
    },
    {
      "cell_type": "code",
      "metadata": {
        "id": "1yU2bsDKgeKn"
      },
      "source": [
        "# convert colour images into LAB\n",
        "def process2(xs, ys, max_pixel=256.0, downsize_input=False, label=True):\n",
        "    \"\"\"\n",
        "    Pre-process CIFAR10 images by taking only the horse category,\n",
        "    shuffling\n",
        "\n",
        "    Args:\n",
        "      xs: the colour RGB pixel values\n",
        "      ys: the category labels\n",
        "      max_pixel: maximum pixel value in the original data\n",
        "    Returns:\n",
        "      L: L images\n",
        "      ab: ab images\n",
        "    \"\"\"\n",
        "    xs = xs / max_pixel\n",
        "    if label:\n",
        "      xs = xs[np.where(ys == HORSE_CATEGORY)[0], :, :, :]\n",
        "    npr.shuffle(xs)\n",
        "    xs = xs.transpose(0, 2, 3, 1)\n",
        "    #print(xs.shape)\n",
        "\n",
        "    img_lab = rgb2lab(xs).astype(\"float32\") # Converting RGB to L*a*b\n",
        "\n",
        "    L = np.zeros((len(xs), 32,32,1))\n",
        "    ab = np.zeros((len(xs), 32,32,2))\n",
        "\n",
        "    #print(img_lab.shape)\n",
        "\n",
        "    for i in range(len(xs)):\n",
        "      L1 = img_lab[i,:,:,:1]\n",
        "      L[i] = L1 / 50. - 1. # Between -1 and 1\n",
        "      ab1 = img_lab[i,:,:,1:] \n",
        "      ab[i] = ab1 / 110. # Between -1 and 1\n",
        "\n",
        "    L = np.transpose(L, (0,3,1,2))\n",
        "    ab = np.transpose(ab, (0,3,1,2))\n",
        "\n",
        "    return (L, ab)\n"
      ],
      "execution_count": null,
      "outputs": []
    },
    {
      "cell_type": "code",
      "metadata": {
        "id": "BOmtJgbrrmkk"
      },
      "source": [
        "HORSE_CATEGORY = 7"
      ],
      "execution_count": null,
      "outputs": []
    },
    {
      "cell_type": "code",
      "metadata": {
        "id": "vYdEmN-OrSIi"
      },
      "source": [
        "L, ab = process2(train_sample,train_lables) #converting images to lab colour space"
      ],
      "execution_count": null,
      "outputs": []
    },
    {
      "cell_type": "code",
      "metadata": {
        "id": "IYgOz4Zg-BNs"
      },
      "source": [
        "L.shape"
      ],
      "execution_count": null,
      "outputs": []
    },
    {
      "cell_type": "code",
      "metadata": {
        "id": "5BPWNSvh-C6g"
      },
      "source": [
        "ab.shape"
      ],
      "execution_count": null,
      "outputs": []
    },
    {
      "cell_type": "code",
      "metadata": {
        "id": "IT_h0FoSEa8F"
      },
      "source": [
        "fig = plt.figure(figsize=(25, 4))\n",
        "for idx in np.arange(9):\n",
        "    ax = fig.add_subplot(2, 9, idx+1)\n",
        "    plt.imshow(L[idx][0], cmap='gray')"
      ],
      "execution_count": null,
      "outputs": []
    },
    {
      "cell_type": "code",
      "metadata": {
        "id": "lIQCuugM17vN"
      },
      "source": [
        "fig = plt.figure(figsize=(25, 4))\n",
        "for idx in np.arange(9):\n",
        "    ax = fig.add_subplot(2, 9, idx+1)\n",
        "    plt.imshow(ab[idx][0])"
      ],
      "execution_count": null,
      "outputs": []
    },
    {
      "cell_type": "markdown",
      "metadata": {
        "id": "tsm8Nb6tS4rQ"
      },
      "source": [
        "Function to convert lab to rgb. Parts of this functions are taken from the following article:\n",
        "https://towardsdatascience.com/colorizing-black-white-images-with-u-net-and-conditional-gan-a-tutorial-81b2df111cd8"
      ]
    },
    {
      "cell_type": "code",
      "metadata": {
        "id": "H1DoZKZj2Q82"
      },
      "source": [
        "def lab_to_rgb(L, ab):\n",
        "    \"\"\"\n",
        "    Takes a batch of images\n",
        "    \"\"\"\n",
        "    L = L.cpu().detach().numpy()\n",
        "    ab = ab.cpu().detach().numpy()\n",
        "    L = (L + 1.) * 50.\n",
        "    ab = ab * 110.\n",
        "    Lab = np.concatenate((L, ab), axis=1).transpose(0, 2, 3, 1)\n",
        "    rgb_imgs = []\n",
        "    for img in Lab:\n",
        "        img_rgb = lab2rgb(img)\n",
        "        rgb_imgs.append(img_rgb)\n",
        "    rgb_imgs = np.stack(rgb_imgs, axis=0)\n",
        "    rgb_imgs = torch.from_numpy(rgb_imgs)\n",
        "    return rgb_imgs"
      ],
      "execution_count": null,
      "outputs": []
    },
    {
      "cell_type": "code",
      "metadata": {
        "id": "623esJWCGIjb"
      },
      "source": [
        "L = torch.from_numpy(L)\n",
        "ab = torch.from_numpy(ab)"
      ],
      "execution_count": null,
      "outputs": []
    },
    {
      "cell_type": "code",
      "metadata": {
        "id": "qz5ZWlje2UhF"
      },
      "source": [
        "rgb = lab_to_rgb(L, ab) #converting to rgb"
      ],
      "execution_count": null,
      "outputs": []
    },
    {
      "cell_type": "code",
      "metadata": {
        "id": "0ijDAVPX6GGp"
      },
      "source": [
        "L.shape"
      ],
      "execution_count": null,
      "outputs": []
    },
    {
      "cell_type": "code",
      "metadata": {
        "id": "FjVS-zNq6LXW"
      },
      "source": [
        "ab.shape"
      ],
      "execution_count": null,
      "outputs": []
    },
    {
      "cell_type": "code",
      "metadata": {
        "id": "_624xBDG51fR"
      },
      "source": [
        "rgb.shape"
      ],
      "execution_count": null,
      "outputs": []
    },
    {
      "cell_type": "code",
      "metadata": {
        "id": "9y9RGCB335A7"
      },
      "source": [
        "fig = plt.figure(figsize=(25, 4))\n",
        "for idx in np.arange(9):\n",
        "    ax = fig.add_subplot(2, 9, idx+1)\n",
        "    plt.imshow(rgb[idx])"
      ],
      "execution_count": null,
      "outputs": []
    },
    {
      "cell_type": "code",
      "metadata": {
        "id": "eukd1JbM7qlC"
      },
      "source": [
        "%matplotlib inline\n",
        "import torch\n",
        "import torch.nn as nn\n",
        "import pandas as pd\n",
        "import numpy as np\n",
        "from torchvision import transforms\n",
        "from torchvision import datasets\n",
        "\n",
        "from torch.utils.data import Dataset, DataLoader\n",
        "from PIL import Image\n",
        "from torch import autograd\n",
        "from torch.autograd import Variable\n",
        "from torchvision.utils import make_grid\n",
        "import matplotlib.pyplot as plt"
      ],
      "execution_count": null,
      "outputs": []
    },
    {
      "cell_type": "code",
      "metadata": {
        "id": "QLGPGMSyMUD8"
      },
      "source": [
        "import warnings\n",
        "warnings.filterwarnings(\"ignore\")"
      ],
      "execution_count": null,
      "outputs": []
    },
    {
      "cell_type": "markdown",
      "metadata": {
        "id": "rpXSx9rmRvZl"
      },
      "source": [
        "Generator and Discrimnator are from CGAN. They were modified as per the new dimessions of the dataset."
      ]
    },
    {
      "cell_type": "code",
      "metadata": {
        "id": "RFCDBWL57wWo"
      },
      "source": [
        "class Generator(nn.Module):\n",
        "    def __init__(self, kernel, num_filters, num_colours=3, num_in_channels=1):\n",
        "        super().__init__()\n",
        "\n",
        "        # Useful parameters\n",
        "        stride = 2\n",
        "        padding = kernel // 2\n",
        "        output_padding = 1\n",
        "\n",
        "        self.downconv1 = nn.Sequential(\n",
        "            nn.Conv2d(1, num_filters, kernel_size=kernel, padding=padding),\n",
        "            nn.BatchNorm2d(num_filters),\n",
        "            nn.ReLU(),\n",
        "            nn.MaxPool2d(2),)\n",
        "        \n",
        "        self.downconv2 = nn.Sequential(\n",
        "            nn.Conv2d(num_filters, num_filters*2, kernel_size=kernel, padding=padding),\n",
        "            nn.BatchNorm2d(num_filters*2),\n",
        "            nn.ReLU(),\n",
        "            nn.MaxPool2d(2),)\n",
        "\n",
        "        self.rfconv = nn.Sequential(\n",
        "            nn.Conv2d(num_filters*2, num_filters*2, kernel_size=kernel, padding=padding),\n",
        "            nn.BatchNorm2d(num_filters*2),\n",
        "            nn.ReLU())\n",
        "\n",
        "        self.upconv1 = nn.Sequential(\n",
        "            nn.Conv2d(num_filters*4, num_filters, kernel_size=kernel, padding=padding),\n",
        "            nn.BatchNorm2d(num_filters),\n",
        "            nn.ReLU(),\n",
        "            nn.Upsample(scale_factor=2),)\n",
        "        \n",
        "        self.upconv2 = nn.Sequential(\n",
        "            nn.Conv2d(num_filters*2, 2, kernel_size=kernel, padding=padding),\n",
        "            nn.BatchNorm2d(2),\n",
        "            nn.ReLU(),\n",
        "            nn.Upsample(scale_factor=2),)\n",
        "        \n",
        "        self.finalconv = nn.Conv2d(2+1, 2, kernel_size=kernel, padding=padding)\n",
        "        \n",
        "        ############### YOUR CODE GOES HERE ############### \n",
        "        ###################################################\n",
        " \n",
        "\n",
        "\n",
        "\n",
        "    def forward(self, x):\n",
        "        out_1 = self.downconv1(x)\n",
        "        out_2 = self.downconv2(out_1)\n",
        "        out_3 = self.rfconv(out_2)\n",
        "        out_4 = self.upconv1(torch.cat((out_3, out_2),1))\n",
        "        out_5 = self.upconv2(torch.cat((out_4, out_1),1))\n",
        "        out_6 = self.finalconv(torch.cat((out_5, x),1))\n",
        "        \n",
        "        ############### YOUR CODE GOES HERE ###############\n",
        "        ###################################################\n",
        "        return out_6"
      ],
      "execution_count": null,
      "outputs": []
    },
    {
      "cell_type": "markdown",
      "metadata": {
        "id": "byyw6GQhRrpI"
      },
      "source": [
        "Testing generator"
      ]
    },
    {
      "cell_type": "code",
      "metadata": {
        "id": "-c_XWfDt70Wr"
      },
      "source": [
        "#test generator architecture\n",
        "#provide arguments to create generator architecture\n",
        "g = Generator(3,16,24,1)\n",
        "#create a sample mini-batch of greyscale images\n",
        "img_greyscale = torch.rand(100,1,32,32)\n",
        "#generate fake image\n",
        "img_fake = g(img_greyscale)"
      ],
      "execution_count": null,
      "outputs": []
    },
    {
      "cell_type": "code",
      "metadata": {
        "id": "4uYYFgkB7601"
      },
      "source": [
        "#verify output dimensions are correct \n",
        "print(img_fake.shape)"
      ],
      "execution_count": null,
      "outputs": []
    },
    {
      "cell_type": "code",
      "metadata": {
        "id": "7txlO5rG8BtW"
      },
      "source": [
        "# discriminator code\n",
        "\n",
        "class Discriminator(nn.Module):\n",
        "    def __init__(self, kernel, num_filters, num_colours=3, num_in_channels=1):\n",
        "        super().__init__()\n",
        "        \n",
        "        # Useful parameters\n",
        "        stride = 2\n",
        "        padding = kernel // 2\n",
        "        output_padding = 1\n",
        "        \n",
        "        self.model = nn.Sequential(\n",
        "            nn.Linear(3072, 1024),\n",
        "            nn.LeakyReLU(0.2, inplace=True),\n",
        "            nn.Dropout(0.3),\n",
        "            nn.Linear(1024, 512),\n",
        "            nn.LeakyReLU(0.2, inplace=True),\n",
        "            nn.Dropout(0.3),\n",
        "            nn.Linear(512, 256),\n",
        "            nn.LeakyReLU(0.2, inplace=True),\n",
        "            nn.Dropout(0.3),\n",
        "            nn.Linear(256, 1),\n",
        "            nn.Sigmoid()\n",
        "        )        \n",
        "        ############### YOUR CODE GOES HERE ############### \n",
        "        ###################################################\n",
        "    \n",
        "    \n",
        "    def forward(self, x, img_greyscale):\n",
        "        \n",
        "        x = x.contiguous().view(x.size(0), -1)\n",
        "        c = img_greyscale.view(img_greyscale.size(0), -1)\n",
        "        x = torch.cat([x, c], 1)\n",
        "        out = self.model(x)\n",
        "        out =  out.squeeze()\n",
        "        ############### YOUR CODE GOES HERE ###############\n",
        "        ###################################################\n",
        "        return out"
      ],
      "execution_count": null,
      "outputs": []
    },
    {
      "cell_type": "markdown",
      "metadata": {
        "id": "vMvWI0s1RoN6"
      },
      "source": [
        "Testing Discriminator"
      ]
    },
    {
      "cell_type": "code",
      "metadata": {
        "id": "wiELIP0U8G2b"
      },
      "source": [
        "# test discriminator architecture\n",
        "#provide arguments to create Discriminator architecture\n",
        "d = Discriminator(3,64)\n",
        "#create a sample mini-batch of greyscale images\n",
        "L_samp = torch.rand(100,1,32,32)\n",
        "#create a sample mini-batch of rgb images\n",
        "ab_samp = torch.rand(100,2,32,32)\n",
        "#generate fake image\n",
        "prediciton = d(ab_samp,L_samp)"
      ],
      "execution_count": null,
      "outputs": []
    },
    {
      "cell_type": "code",
      "metadata": {
        "id": "7iNSKsfo9qNC"
      },
      "source": [
        "print(prediciton.shape)"
      ],
      "execution_count": null,
      "outputs": []
    },
    {
      "cell_type": "code",
      "metadata": {
        "id": "3Bbpi4RkLuaQ"
      },
      "source": [
        "# visualize 5 train/test images\n",
        "def visual(img_grey, img_real, img_fake, gpu = 0, flag_torch = 0):\n",
        "\n",
        "  if gpu:\n",
        "    img_grey = img_grey.cpu().detach()\n",
        "    img_real = img_real.cpu().detach()\n",
        "    img_fake = img_fake.cpu().detach()\n",
        "\n",
        "  if flag_torch:\n",
        "    img_grey = img_grey.numpy()\n",
        "    img_real = img_real.numpy()\n",
        "    img_fake = img_fake.numpy()\n",
        "\n",
        "  if flag_torch == 2:\n",
        "    img_real = np.transpose(img_real[:, :, :, :, :], [0, 4, 2, 3, 1]).squeeze()\n",
        "    img_fake = np.transpose(img_fake[:, :, :, :, :], [0, 4, 2, 3, 1]).squeeze()\n",
        "\n",
        "  #correct image structure\n",
        "  img_grey = np.transpose(img_grey[:5, :, :, :], [0, 2, 3, 1]).squeeze()\n",
        "  img_real = np.transpose(img_real[:5, :, :, :], [0, 1, 2, 3])\n",
        "  img_fake = np.transpose(img_fake[:5, :, :, :], [0, 1, 2, 3])\n",
        "\n",
        "  for i in range(5):\n",
        "      ax = plt.subplot(3, 5, i + 1)\n",
        "      ax.imshow(img_grey[i], cmap='gray')\n",
        "      ax.axis(\"off\")\n",
        "      ax = plt.subplot(3, 5, i + 1 + 5)\n",
        "      ax.imshow(img_real[i])\n",
        "      ax.axis(\"off\")\n",
        "      ax = plt.subplot(3, 5, i + 1 + 10)\n",
        "      ax.imshow(img_fake[i])\n",
        "      ax.axis(\"off\")\n",
        "  plt.show()"
      ],
      "execution_count": null,
      "outputs": []
    },
    {
      "cell_type": "markdown",
      "metadata": {
        "id": "5lkWhgy7RfxE"
      },
      "source": [
        "Train function for new data type"
      ]
    },
    {
      "cell_type": "code",
      "metadata": {
        "id": "cdEYxCG690WC"
      },
      "source": [
        "class AttrDict(dict):\n",
        "    def __init__(self, *args, **kwargs):\n",
        "        super(AttrDict, self).__init__(*args, **kwargs)\n",
        "        self.__dict__ = self\n",
        "\n",
        "def get_torch_vars(xs, ys, gpu=False):\n",
        "    \"\"\"\n",
        "    Helper function to convert numpy arrays to pytorch tensors.\n",
        "    If GPU is used, move the tensors to GPU.\n",
        "\n",
        "    Args:\n",
        "      xs (float numpy tenosor): greyscale input\n",
        "      ys (int numpy tenosor): categorical labels\n",
        "      gpu (bool): whether to move pytorch tensor to GPU\n",
        "    Returns:\n",
        "      Variable(xs), Variable(ys)\n",
        "    \"\"\"\n",
        "    xs = torch.from_numpy(xs).float()\n",
        "    ys = torch.from_numpy(ys).float() #--> ADDED for cGAN\n",
        "    if gpu:\n",
        "        xs = xs.cuda()\n",
        "        ys = ys.cuda()\n",
        "    return Variable(xs), Variable(ys)\n",
        "\n",
        "def train(args, cnn=None):\n",
        "    # Set the maximum number of threads to prevent crash in Teaching Labs\n",
        "    # TODO: necessary?\n",
        "    torch.set_num_threads(5)\n",
        "    # Numpy random seed\n",
        "    npr.seed(args.seed)\n",
        "\n",
        "    # Save directory\n",
        "    save_dir = \"outputs/\" + args.experiment_name\n",
        "\n",
        "    # LOAD THE COLOURS CATEGORIES\n",
        "\n",
        "    # INPUT CHANNEL\n",
        "    num_in_channels = 1 if not args.downsize_input else 3\n",
        "    # LOAD THE MODEL\n",
        "    if cnn is None:\n",
        "        Net = globals()[args.model]\n",
        "        cnn = Generator(args.kernel, args.num_filters)\n",
        "        discriminator = Discriminator(args.kernel, args.num_filters)\n",
        "\n",
        "\n",
        "    # LOSS FUNCTION\n",
        "\n",
        "    criterion = nn.BCELoss()                                                    \n",
        "    g_optimizer = torch.optim.Adam(cnn.parameters(), lr=args.learn_rate)\n",
        "    d_optimizer = torch.optim.Adam(discriminator.parameters(), lr=args.learn_rate)\n",
        "\n",
        "    # DATA\n",
        "    print(\"Loading data...\")\n",
        "    (x_train, y_train), (x_test, y_test) = load_cifar10()\n",
        "\n",
        "    print(\"Transforming data...\")\n",
        "    #L, ab = process2(train_sample,train_lables)\n",
        "    train_L, train_ab = process2(x_train, y_train)\n",
        "    test_L, test_ab = process2(x_test, y_test)\n",
        "\n",
        "    # Create the outputs folder if not created already\n",
        "    if not os.path.exists(save_dir):\n",
        "        os.makedirs(save_dir)\n",
        "\n",
        "    print(\"Beginning training ...\")\n",
        "    if args.gpu:\n",
        "        cnn.cuda()\n",
        "        discriminator.cuda()\n",
        "    start = time.time()\n",
        "\n",
        "    train_losses = []\n",
        "    valid_losses = []\n",
        "    valid_accs = []\n",
        "    for epoch in range(args.epochs):\n",
        "        # Train the Model\n",
        "        cnn.train()\n",
        "        discriminator.train()\n",
        "        losses = []\n",
        " \n",
        "        for i, (xs, ys) in enumerate(get_batch(train_L, train_ab, args.batch_size)):\n",
        "            images, labels = get_torch_vars(xs, ys, args.gpu)\n",
        "\n",
        "            #--->ADDED 5\n",
        "            img_L = images\n",
        "            #print(img_L.shape)\n",
        "            img_ab = labels\n",
        "            batch_size = args.batch_size\n",
        "            \n",
        "            #discriminator training\n",
        "            d_optimizer.zero_grad()\n",
        "\n",
        "            # train with real images\n",
        "            real_validity = discriminator(img_ab, img_L)\n",
        "            real_loss = criterion(real_validity, Variable(torch.ones(batch_size)).cuda())\n",
        "    \n",
        "            # train with fake images\n",
        "            fake_images = cnn(img_L)\n",
        "            fake_validity = discriminator(fake_images,  img_L)\n",
        "            fake_loss = criterion(fake_validity, Variable(torch.zeros(batch_size)).cuda())\n",
        "    \n",
        "            d_loss = real_loss + fake_loss            \n",
        "\n",
        "            d_loss.backward()\n",
        "            d_optimizer.step()\n",
        "\n",
        "            # generator training\n",
        "            g_optimizer.zero_grad()\n",
        "            fake_images = cnn(img_L)\n",
        "            validity = discriminator(fake_images, img_L)\n",
        "            g_loss = criterion(validity, Variable(torch.ones(batch_size)).cuda())\n",
        "\n",
        "            g_loss.backward()\n",
        "            g_optimizer.step()\n",
        "\n",
        "\n",
        "        # print and visualize\n",
        "        print(epoch, g_loss.cpu().detach(), d_loss.cpu().detach())\n",
        "        realrgb = lab_to_rgb(images, labels)\n",
        "        fakergb = lab_to_rgb(images, fake_images)\n",
        "        visual(images, realrgb, fakergb, args.gpu, 1)\n",
        "\n",
        "    return cnn"
      ],
      "execution_count": null,
      "outputs": []
    },
    {
      "cell_type": "markdown",
      "metadata": {
        "id": "ycOSjQ8XRZmz"
      },
      "source": [
        "Training CGAN with L.A.B."
      ]
    },
    {
      "cell_type": "code",
      "metadata": {
        "id": "YpVdgkVrRgEZ"
      },
      "source": [
        "args = AttrDict()\n",
        "args_dict = {\n",
        "    \"gpu\": True,\n",
        "    \"valid\": False,\n",
        "    \"checkpoint\": \"\",\n",
        "    \"colours\": \"./data/colours/colour_kmeans24_cat7.npy\",\n",
        "    \"model\": \"Generator\",\n",
        "    \"kernel\": 3,\n",
        "    \"num_filters\": 64,\n",
        "    'learn_rate':0.0001, \n",
        "    \"batch_size\": 50,\n",
        "    \"epochs\": 100,\n",
        "    \"seed\": 0,\n",
        "    \"plot\": False,\n",
        "    \"experiment_name\": \"colourization_cnn\",\n",
        "    \"visualize\": False,\n",
        "    \"downsize_input\": False,\n",
        "}\n",
        "args.update(args_dict)\n",
        "cnn = train(args)\n",
        "\n",
        "#batch size of 50 with 100 epochs seamed to work"
      ],
      "execution_count": null,
      "outputs": []
    },
    {
      "cell_type": "markdown",
      "metadata": {
        "id": "W04U6MhOjezG"
      },
      "source": [
        "## Part 3. New Data [5 pt]\n",
        "Retrieve sample pictures from online and demonstrate how well your best model performs. Provide all your code."
      ]
    },
    {
      "cell_type": "code",
      "metadata": {
        "id": "4-KqVKxge99J"
      },
      "source": [
        "# mount Google Drive\n",
        "from google.colab import drive\n",
        "drive.mount('/content/drive')"
      ],
      "execution_count": null,
      "outputs": []
    },
    {
      "cell_type": "code",
      "metadata": {
        "id": "5iKH1P3-fR69"
      },
      "source": [
        "# resize all images to 32 x 32\n",
        "data_transform = transforms.Compose([transforms.Resize((32,32)), transforms.ToTensor()])"
      ],
      "execution_count": null,
      "outputs": []
    },
    {
      "cell_type": "markdown",
      "metadata": {
        "id": "t5IgZxLT_jrX"
      },
      "source": [
        "##Loading Test Images"
      ]
    },
    {
      "cell_type": "code",
      "metadata": {
        "id": "f25HojL0e3IV"
      },
      "source": [
        "data_dir = '/content/drive/My Drive/Lab3_images/'\n",
        "data = datasets.ImageFolder(data_dir, transform=data_transform)"
      ],
      "execution_count": null,
      "outputs": []
    },
    {
      "cell_type": "code",
      "metadata": {
        "id": "tOJvjjBNe8yg"
      },
      "source": [
        "# print out some data stats\n",
        "print('Num training images: ', len(data))\n",
        "\n",
        "#The picture in cat folder corresponds to label 0 and dog corresponds to 1\n",
        "print(data.class_to_idx)"
      ],
      "execution_count": null,
      "outputs": []
    },
    {
      "cell_type": "code",
      "metadata": {
        "id": "Gk2GmKWw0_M-"
      },
      "source": [
        "classes = data.class_to_idx['horses']"
      ],
      "execution_count": null,
      "outputs": []
    },
    {
      "cell_type": "code",
      "metadata": {
        "id": "tULLXas5fAik"
      },
      "source": [
        "train_loader = torch.utils.data.DataLoader(dataset=data, batch_size=10, \n",
        "                                           shuffle=True)"
      ],
      "execution_count": null,
      "outputs": []
    },
    {
      "cell_type": "code",
      "metadata": {
        "id": "yp434OUmfGKn"
      },
      "source": [
        "dataiter = iter(train_loader)\n",
        "images, labels = dataiter.next()\n",
        "images = images.numpy() # convert images to numpy for display"
      ],
      "execution_count": null,
      "outputs": []
    },
    {
      "cell_type": "markdown",
      "metadata": {
        "id": "_P5G4i6D_vPo"
      },
      "source": [
        "##Converting Images to L.A.B Format"
      ]
    },
    {
      "cell_type": "code",
      "metadata": {
        "id": "zRRlao0N2Gxv"
      },
      "source": [
        "l_test, ab_test = process2(images, labels,1, label=False)"
      ],
      "execution_count": null,
      "outputs": []
    },
    {
      "cell_type": "markdown",
      "metadata": {
        "id": "93zsOnvC_5pB"
      },
      "source": [
        "L Images"
      ]
    },
    {
      "cell_type": "code",
      "metadata": {
        "id": "GCwWWJY34WY5"
      },
      "source": [
        "fig = plt.figure(figsize=(25, 4))\n",
        "for idx in np.arange(10):\n",
        "    ax = fig.add_subplot(2, 9, idx+1)\n",
        "    plt.imshow(l_test[idx][0], cmap='gray')"
      ],
      "execution_count": null,
      "outputs": []
    },
    {
      "cell_type": "markdown",
      "metadata": {
        "id": "AnETlFmZ_84V"
      },
      "source": [
        "AB Images"
      ]
    },
    {
      "cell_type": "code",
      "metadata": {
        "id": "qNqdH9lZ4tkU"
      },
      "source": [
        "fig = plt.figure(figsize=(25, 4))\n",
        "for idx in np.arange(10):\n",
        "    ax = fig.add_subplot(2, 9, idx+1)\n",
        "    plt.imshow(ab_test[idx][0])"
      ],
      "execution_count": null,
      "outputs": []
    },
    {
      "cell_type": "code",
      "metadata": {
        "id": "l4HkYcRt2i_8"
      },
      "source": [
        "l_test = torch.from_numpy(l_test).float()\n",
        "ab_test = torch.from_numpy(ab_test).float()"
      ],
      "execution_count": null,
      "outputs": []
    },
    {
      "cell_type": "markdown",
      "metadata": {
        "id": "rCCNEdK7AB05"
      },
      "source": [
        "Converting L.A.B to RGB Images"
      ]
    },
    {
      "cell_type": "code",
      "metadata": {
        "id": "cYE7avZK47YB"
      },
      "source": [
        "rgb = lab_to_rgb(l_test, ab_test)"
      ],
      "execution_count": null,
      "outputs": []
    },
    {
      "cell_type": "code",
      "metadata": {
        "id": "0CNo429F5Dc6"
      },
      "source": [
        "fig = plt.figure(figsize=(25, 4))\n",
        "for idx in np.arange(10):\n",
        "    ax = fig.add_subplot(2, 9, idx+1)\n",
        "    plt.imshow(np.transpose(rgb[idx], (0, 1, 2)))"
      ],
      "execution_count": null,
      "outputs": []
    },
    {
      "cell_type": "markdown",
      "metadata": {
        "id": "sn82BAnu_KMj"
      },
      "source": [
        "#Loading the CGAN trained on LAB images. "
      ]
    },
    {
      "cell_type": "code",
      "metadata": {
        "id": "qhtW2iBsq8HQ"
      },
      "source": [
        "cnn.load_state_dict"
      ],
      "execution_count": null,
      "outputs": []
    },
    {
      "cell_type": "markdown",
      "metadata": {
        "id": "MJ_D5Dp5_S3o"
      },
      "source": [
        "##Prediciting and Visualizing Results"
      ]
    },
    {
      "cell_type": "code",
      "metadata": {
        "id": "Y1RvgAU0mitI"
      },
      "source": [
        "prediction = cnn(l_test.cuda())"
      ],
      "execution_count": null,
      "outputs": []
    },
    {
      "cell_type": "code",
      "metadata": {
        "id": "UgEGhFlnymc2"
      },
      "source": [
        "realrgb = lab_to_rgb(l_test, ab_test)\n",
        "fakergb = lab_to_rgb(l_test, prediction)\n",
        "visual(l_test, realrgb, fakergb, args.gpu, 1)"
      ],
      "execution_count": null,
      "outputs": []
    },
    {
      "cell_type": "markdown",
      "metadata": {
        "id": "1-4Nvv2iTw5l"
      },
      "source": [
        "My best model was CGAN with LAB colour space. This model was able to outperfrom all the other methods. Once reason for better performance was the total number for predictions. In RGB space we are predicting 256exp3 where as for LABs we are only predicting 256exp2. Which are way less predictions resulting in amazing performace. Additonally this model is only predicting the colours, unlike in RGB the model was also trying to predict the shape. This makes this model better suited for colourization. The predictions are very good. The model is good at prediciting brown, and green colour, however its struggling to predict blue and yellow. This can be improved by introducing more examples containing more colours and training for more epochs. "
      ]
    },
    {
      "cell_type": "markdown",
      "metadata": {
        "id": "FYwI4RmFS2RB"
      },
      "source": [
        "### Saving to HTML\n",
        "Detailed instructions for saving to HTML can be found <a href=\"https://stackoverflow.com/questions/53460051/convert-ipynb-notebook-to-html-in-google-colab/64487858#64487858\">here</a>. Provided below are a summary of the instructions:\n",
        "\n",
        "(1) download your ipynb file by clicking on File->Download.ipynb\n",
        "\n",
        "(2) reupload your file to the temporary Google Colab storage (you can access the temporary storage from the tab to the left)\n",
        "\n",
        "(3) run the following:"
      ]
    },
    {
      "cell_type": "code",
      "metadata": {
        "id": "Eza2jw2tC93k"
      },
      "source": [
        "%%shell\n",
        "jupyter nbconvert --to html /content/LAB_3_Generating_Data1.ipynb"
      ],
      "execution_count": null,
      "outputs": []
    },
    {
      "cell_type": "markdown",
      "metadata": {
        "id": "nuXhlFlPTY7F"
      },
      "source": [
        "(4) the html file will be available for download in the temporary Google Colab storage\n",
        "\n",
        "(5) review the html file and make sure all the results are visible before submitting your assignment to Quercus"
      ]
    }
  ]
}